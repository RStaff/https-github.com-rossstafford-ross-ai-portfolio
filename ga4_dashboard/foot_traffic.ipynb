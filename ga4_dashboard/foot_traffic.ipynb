{
 "cells": [
  {
   "cell_type": "code",
   "execution_count": null,
   "id": "413337e6-2fc0-4d21-8514-b2a27b72daad",
   "metadata": {},
   "outputs": [],
   "source": []
  },
  {
   "cell_type": "code",
   "execution_count": 1,
   "id": "969fda80-e7a9-4ec8-b04b-8a1dfeb1ad28",
   "metadata": {},
   "outputs": [
    {
     "name": "stdout",
     "output_type": "stream",
     "text": [
      "MAE: 17.0\n"
     ]
    }
   ],
   "source": [
    "import pandas as pd, numpy as np\n",
    "from sklearn.ensemble import RandomForestRegressor\n",
    "from sklearn.metrics import mean_absolute_error\n",
    "\n",
    "# Load synthetic GA4 + POS data\n",
    "df = pd.read_csv(\"ga4_pos_demo.csv\", parse_dates=[\"date\"])\n",
    "\n",
    "# Create 7-day lag feature\n",
    "df[\"visits_lag7\"] = df.groupby(\"store_id\")[\"visits\"].shift(7)\n",
    "df = df.dropna()\n",
    "\n",
    "# Train random-forest\n",
    "X = df[[\"visits\", \"visits_lag7\"]]\n",
    "y = df[\"sales\"]\n",
    "rf = RandomForestRegressor(n_estimators=200, random_state=42).fit(X, y)\n",
    "\n",
    "# Predict and evaluate\n",
    "df[\"pred_sales\"] = rf.predict(X)\n",
    "mae = mean_absolute_error(y, df[\"pred_sales\"])\n",
    "print(f\"MAE: {mae:0.1f}\")\n",
    "\n",
    "# Save predictions for Tableau\n",
    "df.to_csv(\"store_sales_pred.csv\", index=False)\n"
   ]
  },
  {
   "cell_type": "code",
   "execution_count": 2,
   "id": "62b81025-4f7b-4062-893a-7f4a8f2ed11d",
   "metadata": {},
   "outputs": [],
   "source": [
    "\n",
    "# Save predictions for Tableau\n",
    "df.to_csv(\"store_sales_pred.csv\", index=False)\n"
   ]
  },
  {
   "cell_type": "code",
   "execution_count": null,
   "id": "730f6fb9-a2e8-4bef-839e-d7076eb9b771",
   "metadata": {},
   "outputs": [],
   "source": []
  },
  {
   "cell_type": "code",
   "execution_count": null,
   "id": "d27126a1-aac8-4a61-b557-6fc581d35e07",
   "metadata": {},
   "outputs": [],
   "source": []
  }
 ],
 "metadata": {
  "kernelspec": {
   "display_name": "Python 3 (ipykernel)",
   "language": "python",
   "name": "python3"
  },
  "language_info": {
   "codemirror_mode": {
    "name": "ipython",
    "version": 3
   },
   "file_extension": ".py",
   "mimetype": "text/x-python",
   "name": "python",
   "nbconvert_exporter": "python",
   "pygments_lexer": "ipython3",
   "version": "3.13.3"
  }
 },
 "nbformat": 4,
 "nbformat_minor": 5
}
